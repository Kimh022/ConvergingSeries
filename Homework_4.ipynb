{
  "nbformat": 4,
  "nbformat_minor": 0,
  "metadata": {
    "colab": {
      "provenance": []
    },
    "kernelspec": {
      "name": "python3",
      "display_name": "Python 3"
    },
    "language_info": {
      "name": "python"
    }
  },
  "cells": [
    {
      "cell_type": "code",
      "execution_count": null,
      "metadata": {
        "id": "GAObscdTvuB3"
      },
      "outputs": [],
      "source": [
        "import numpy as np\n",
        "\n",
        "def bisection(f, a, b, eps, N):\n",
        "  n = 1\n",
        "  p = 0. # to ensure the value of p carries out of the while loop\n",
        "  while n <= N:\n",
        "    p = a + (b-a)/2\n",
        "    print('p is ', p, 'and the iteration number is ', n)\n",
        "    if np.isclose(f(p), 0):\n",
        "      return p\n",
        "    if f(a)*f(p) < 0:\n",
        "      b = p\n",
        "    else:\n",
        "      a = p\n",
        "    n += 1\n",
        "  y = f(p)\n",
        "  print('Method did not converge. The last iteration gives ',\n",
        "  p, 'with function value ', y)"
      ]
    },
    {
      "cell_type": "code",
      "source": [
        "bisection(lambda x: x**3 +4*x**2-10,1,2,None,15)"
      ],
      "metadata": {
        "colab": {
          "base_uri": "https://localhost:8080/"
        },
        "id": "P6_3WCjcwOZ9",
        "outputId": "7e189eb1-caa6-45c6-8ee5-4c6d43676c64"
      },
      "execution_count": null,
      "outputs": [
        {
          "output_type": "stream",
          "name": "stdout",
          "text": [
            "p is  1.5 and the iteration number is  1\n",
            "p is  1.25 and the iteration number is  2\n",
            "p is  1.375 and the iteration number is  3\n",
            "p is  1.3125 and the iteration number is  4\n",
            "p is  1.34375 and the iteration number is  5\n",
            "p is  1.359375 and the iteration number is  6\n",
            "p is  1.3671875 and the iteration number is  7\n",
            "p is  1.36328125 and the iteration number is  8\n",
            "p is  1.365234375 and the iteration number is  9\n",
            "p is  1.3642578125 and the iteration number is  10\n",
            "p is  1.36474609375 and the iteration number is  11\n",
            "p is  1.364990234375 and the iteration number is  12\n",
            "p is  1.3651123046875 and the iteration number is  13\n",
            "p is  1.36517333984375 and the iteration number is  14\n",
            "p is  1.365203857421875 and the iteration number is  15\n",
            "Method did not converge. The last iteration gives  1.365203857421875 with function value  -0.00043191879925075227\n"
          ]
        }
      ]
    },
    {
      "cell_type": "code",
      "source": [
        "bisection(lambda x: x**3 -25,2,3,None,17)"
      ],
      "metadata": {
        "colab": {
          "base_uri": "https://localhost:8080/"
        },
        "id": "GvcUp3gTPpKH",
        "outputId": "cd202361-bc80-4802-bb88-4f72f18b9bb5"
      },
      "execution_count": null,
      "outputs": [
        {
          "output_type": "stream",
          "name": "stdout",
          "text": [
            "p is  2.5 and the iteration number is  1\n",
            "p is  2.75 and the iteration number is  2\n",
            "p is  2.875 and the iteration number is  3\n",
            "p is  2.9375 and the iteration number is  4\n",
            "p is  2.90625 and the iteration number is  5\n",
            "p is  2.921875 and the iteration number is  6\n",
            "p is  2.9296875 and the iteration number is  7\n",
            "p is  2.92578125 and the iteration number is  8\n",
            "p is  2.923828125 and the iteration number is  9\n",
            "p is  2.9248046875 and the iteration number is  10\n",
            "p is  2.92431640625 and the iteration number is  11\n",
            "p is  2.924072265625 and the iteration number is  12\n",
            "p is  2.9239501953125 and the iteration number is  13\n",
            "p is  2.92401123046875 and the iteration number is  14\n",
            "p is  2.924041748046875 and the iteration number is  15\n",
            "p is  2.9240264892578125 and the iteration number is  16\n",
            "Method did not converge. The last iteration gives  2.9240264892578125 with function value  0.0002244618172717594\n"
          ]
        }
      ]
    },
    {
      "cell_type": "code",
      "source": [],
      "metadata": {
        "id": "NHfPVBfKSYVc"
      },
      "execution_count": null,
      "outputs": []
    }
  ]
}